{
 "cells": [
  {
   "cell_type": "code",
   "execution_count": 41,
   "id": "cc3a4e75",
   "metadata": {},
   "outputs": [],
   "source": [
    "import cv2\n",
    "import numpy as np\n",
    "import time\n",
    "from datetime import date\n",
    "import os"
   ]
  },
  {
   "cell_type": "markdown",
   "id": "4055cdc0",
   "metadata": {},
   "source": [
    "## Lil Variables/Things"
   ]
  },
  {
   "cell_type": "code",
   "execution_count": 42,
   "id": "d6a294e3",
   "metadata": {},
   "outputs": [],
   "source": [
    "cam = cv2.VideoCapture(0)\n",
    "\n",
    "todayFolder = f'{date.today()}'\n",
    "\n",
    "todayWords = ['NEWS', 'BIG', 'BLESS']\n",
    "\n",
    "text = f\"Word{1}: \"\n",
    "\n",
    "challengeComplete = False"
   ]
  },
  {
   "cell_type": "markdown",
   "id": "ed3f2eaa",
   "metadata": {},
   "source": [
    "## Font Properties"
   ]
  },
  {
   "cell_type": "code",
   "execution_count": 43,
   "id": "c66fd7f6",
   "metadata": {},
   "outputs": [],
   "source": [
    "font = cv2.FONT_HERSHEY_SIMPLEX\n",
    "fontCoordinates = (100, 100)\n",
    "fontScale = 1\n",
    "fontColor = (255, 255, 255)\n",
    "fontThick = 2"
   ]
  },
  {
   "cell_type": "markdown",
   "id": "2209b1d4",
   "metadata": {},
   "source": [
    "## Creating folder 'todayFolder', to save frames of Alphabets"
   ]
  },
  {
   "cell_type": "code",
   "execution_count": 44,
   "id": "c9233521",
   "metadata": {},
   "outputs": [],
   "source": [
    "path = f\"E:\\Jupyter Notebook P\\ASL HandDetection (image clicker)\\{todayFolder}\"\n",
    "\n",
    "if not os.path.exists(path):\n",
    "    \n",
    "    os.makedirs(path)"
   ]
  },
  {
   "cell_type": "markdown",
   "id": "168da0da",
   "metadata": {},
   "source": [
    "# Main Loop"
   ]
  },
  {
   "cell_type": "code",
   "execution_count": 45,
   "id": "0337f5c8",
   "metadata": {
    "scrolled": true
   },
   "outputs": [],
   "source": [
    "while True:\n",
    "    success, frame = cam.read()\n",
    "    \n",
    "    gray = cv2.cvtColor(frame, cv2.COLOR_BGR2GRAY)\n",
    "    frame = cv2.putText(frame, text, fontCoordinates, font, fontScale, fontColor, fontThick, cv2.LINE_AA)\n",
    "    \n",
    "    if challengeComplete == True:\n",
    "        frame = cv2.putText(frame, \"Challenge Complete!! (Press 'M' for menu)\", (20, 450), font, fontScale/1.2, fontColor, fontThick, cv2.LINE_AA)\n",
    "    \n",
    "    cv2.imshow(\"FRAME\", frame)\n",
    "    \n",
    "    \n",
    "    \n",
    "    key = cv2.waitKey(1)\n",
    "    \n",
    "    # HEVVE DO SOMETHING HERE\n",
    "    if key == ord('c'):\n",
    "        challengeComplete = True\n",
    "    \n",
    "    if key == ord('s'):\n",
    "        cv2.imwrite(f\"Date Folder/{todayFolder}/Image_{time.time()}.jpg\", gray)\n",
    "        \n",
    "        \n",
    "    elif key == ord('q'):\n",
    "        break    "
   ]
  },
  {
   "cell_type": "markdown",
   "id": "c18f593f",
   "metadata": {},
   "source": [
    "# Destroying All Windows"
   ]
  },
  {
   "cell_type": "code",
   "execution_count": 46,
   "id": "d4f6c779",
   "metadata": {},
   "outputs": [],
   "source": [
    "cam.release()\n",
    "cv2.destroyAllWindows()"
   ]
  }
 ],
 "metadata": {
  "kernelspec": {
   "display_name": "Python 3 (ipykernel)",
   "language": "python",
   "name": "python3"
  },
  "language_info": {
   "codemirror_mode": {
    "name": "ipython",
    "version": 3
   },
   "file_extension": ".py",
   "mimetype": "text/x-python",
   "name": "python",
   "nbconvert_exporter": "python",
   "pygments_lexer": "ipython3",
   "version": "3.7.3"
  },
  "vscode": {
   "interpreter": {
    "hash": "1b6f4294861b5c3d2d9e701dc0cd07e726751ba6327993a1cef28b2b41767370"
   }
  }
 },
 "nbformat": 4,
 "nbformat_minor": 5
}
