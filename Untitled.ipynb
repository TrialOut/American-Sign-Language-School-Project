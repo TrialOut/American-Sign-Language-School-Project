{
 "cells": [
  {
   "cell_type": "code",
   "execution_count": 1,
   "id": "cc3a4e75",
   "metadata": {},
   "outputs": [],
   "source": [
    "import cv2\n",
    "import numpy as np\n",
    "import time\n",
    "from datetime import date\n",
    "import os"
   ]
  },
  {
   "cell_type": "code",
   "execution_count": 2,
   "id": "3a39b97e",
   "metadata": {},
   "outputs": [],
   "source": [
    "cam = cv2.VideoCapture(0)"
   ]
  },
  {
   "cell_type": "code",
   "execution_count": 3,
   "id": "d6a294e3",
   "metadata": {},
   "outputs": [],
   "source": [
    "folder = f'{date.today()}'"
   ]
  },
  {
   "cell_type": "code",
   "execution_count": 4,
   "id": "c9233521",
   "metadata": {},
   "outputs": [],
   "source": [
    "path = f\"E:\\Jupyter Notebook P\\ASL HandDetection (image clicker)\\{folder}\"\n",
    "\n",
    "if not os.path.exists(path):\n",
    "    \n",
    "    os.makedirs(path)"
   ]
  },
  {
   "cell_type": "code",
   "execution_count": 5,
   "id": "5679ad73",
   "metadata": {},
   "outputs": [],
   "source": [
    "# WORDS OF DAY (TODAY'S CHALLENGE)\n",
    "\n",
    "words = ['NEWS', 'BIG', 'BLESS']"
   ]
  },
  {
   "cell_type": "code",
   "execution_count": 6,
   "id": "3d2819c0",
   "metadata": {},
   "outputs": [],
   "source": [
    "text = f'Word {1}: '\n",
    "fontCoordinates = (100, 100)\n",
    "font = cv2.FONT_HERSHEY_SIMPLEX\n",
    "fontScale = 1\n",
    "fontColor = (255, 255, 255)\n",
    "fontThick = 2"
   ]
  },
  {
   "cell_type": "code",
   "execution_count": 7,
   "id": "a8a26106",
   "metadata": {},
   "outputs": [
    {
     "data": {
      "text/plain": [
       "True"
      ]
     },
     "execution_count": 7,
     "metadata": {},
     "output_type": "execute_result"
    }
   ],
   "source": [
    "# Changing the resolution of cam\n",
    "\n",
    "width = 400\n",
    "height = 400\n",
    "\n",
    "cam.set(cv2.CAP_PROP_FRAME_WIDTH, width)\n",
    "cam.set(cv2.CAP_PROP_FRAME_HEIGHT, height)"
   ]
  },
  {
   "cell_type": "code",
   "execution_count": 8,
   "id": "0337f5c8",
   "metadata": {},
   "outputs": [],
   "source": [
    "while True:\n",
    "    success, frame = cam.read()\n",
    "    \n",
    "    \n",
    "    gray = cv2.cvtColor(frame, cv2.COLOR_BGR2GRAY)\n",
    "    gray = cv2.putText(gray, text, fontCoordinates, font, fontScale, fontColor, fontThick, cv2.LINE_AA)\n",
    "    \n",
    "    cv2.imshow(\"GRAY\", gray)\n",
    "    \n",
    "    \n",
    "    \n",
    "    \n",
    "    key = cv2.waitKey(1)\n",
    "    \n",
    "    if key == ord('s'):\n",
    "        \n",
    "        cv2.imwrite(f\"{folder}/Image_{time.time()}.jpg\", frame)\n",
    "        \n",
    "        \n",
    "    elif key == ord('q'):\n",
    "        break"
   ]
  },
  {
   "cell_type": "code",
   "execution_count": 9,
   "id": "d4f6c779",
   "metadata": {},
   "outputs": [],
   "source": [
    "cam.release()\n",
    "cv2.destroyAllWindows()"
   ]
  }
 ],
 "metadata": {
  "kernelspec": {
   "display_name": "Python 3 (ipykernel)",
   "language": "python",
   "name": "python3"
  },
  "language_info": {
   "codemirror_mode": {
    "name": "ipython",
    "version": 3
   },
   "file_extension": ".py",
   "mimetype": "text/x-python",
   "name": "python",
   "nbconvert_exporter": "python",
   "pygments_lexer": "ipython3",
   "version": "3.7.3"
  },
  "vscode": {
   "interpreter": {
    "hash": "1b6f4294861b5c3d2d9e701dc0cd07e726751ba6327993a1cef28b2b41767370"
   }
  }
 },
 "nbformat": 4,
 "nbformat_minor": 5
}
